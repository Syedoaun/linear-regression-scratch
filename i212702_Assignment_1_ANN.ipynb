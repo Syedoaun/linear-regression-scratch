{
  "cells": [
    {
      "cell_type": "markdown",
      "metadata": {
        "id": "WQB-PO1fiNvZ"
      },
      "source": [
        "\n",
        "\n",
        "1.   Syed Muhammad Oaun\n",
        "2.   i212702 (BS-AI-J)\n",
        "\n"
      ]
    },
    {
      "cell_type": "code",
      "execution_count": 1,
      "metadata": {
        "id": "N01MgrjR_RCR"
      },
      "outputs": [],
      "source": [
        "import numpy as np\n",
        "import pandas as pd\n",
        "from sklearn import datasets\n",
        "from sklearn.model_selection import train_test_split\n",
        "from sklearn.preprocessing import StandardScaler"
      ]
    },
    {
      "cell_type": "code",
      "execution_count": 2,
      "metadata": {
        "id": "976iqezUAnyf"
      },
      "outputs": [],
      "source": [
        "\n",
        "class LinearRegression:\n",
        "    def __init__(self, learning_rate=0.01, max_iterations=1000, tolerance=1e-4, print_interval=10):\n",
        "        self.learning_rate = learning_rate\n",
        "        self.max_iterations = max_iterations\n",
        "        self.tolerance = tolerance\n",
        "        self.print_interval = print_interval\n",
        "        self.theta = None\n",
        "\n",
        "    def hypothesis(self, X):\n",
        "        X = np.hstack((X, np.ones((X.shape[0], 1))))\n",
        "        return np.dot(X, self.theta.reshape(-1, 1))\n",
        "\n",
        "    def der_cost_function(self, X, y):\n",
        "        h = self.hypothesis(X)\n",
        "        y = y.reshape(-1, 1)\n",
        "        #print(h.shape)\n",
        "        #print(y.shape)\n",
        "        #print((y-h).shape)\n",
        "        #print(X.shape)\n",
        "        X = np.hstack((X, np.ones((X.shape[0], 1))))\n",
        "        return -2 * np.mean((y - h) * X, axis=0)\n",
        "\n",
        "    def cost_function(self, X, y):\n",
        "        h = self.hypothesis(X)\n",
        "        y = y.reshape(-1, 1)\n",
        "        #print(y.shape)\n",
        "        #print(h.shape)\n",
        "        #print((y-h).shape)\n",
        "        return np.mean((y - h) ** 2)\n",
        "\n",
        "    def gradient_descent(self, X, y):\n",
        "        der = self.der_cost_function(X, y)\n",
        "        #print(\"der\",der.shape)\n",
        "        self.theta = self.theta - self.learning_rate * der\n",
        "\n",
        "    def get_weights(self):\n",
        "        return self.theta\n",
        "\n",
        "    def fit(self, X, y):\n",
        "\n",
        "        num_features = X.shape[1]\n",
        "        self.theta = np.zeros(num_features + 1)\n",
        "\n",
        "        for iteration in range(1, self.max_iterations + 1):\n",
        "            prev_theta = np.copy(self.theta)\n",
        "            self.gradient_descent(X, y)\n",
        "\n",
        "            if iteration % self.print_interval == 0 or iteration == 1 :\n",
        "                loss = self.cost_function(X, y)\n",
        "                print(f\"Iteration {iteration}, Loss: {loss}\")\n",
        "                print(f\"weights \", self.theta)\n",
        "\n",
        "            if np.linalg.norm(self.theta - prev_theta) < self.tolerance:\n",
        "                print(f\"Converged at iteration {iteration}\")\n",
        "                break\n",
        "\n",
        "    def predict(self, X):\n",
        "        return self.hypothesis(X).flatten()\n",
        "\n",
        "\n"
      ]
    },
    {
      "cell_type": "code",
      "execution_count": 3,
      "metadata": {},
      "outputs": [],
      "source": [
        "path = 'E:/FAST_NUCES/SEMISTER_6_BS(AI)/ANN/ASSIGNMNETS/ENB2012_data.csv'\n",
        "data = pd.read_csv(path)\n",
        "\n",
        "# Select relevant features and target (Y1: Heating Load)\n",
        "X = data.iloc[:, :-2].to_numpy()\n",
        "y = data.iloc[:, -2].to_numpy()"
      ]
    },
    {
      "cell_type": "code",
      "execution_count": 4,
      "metadata": {},
      "outputs": [
        {
          "data": {
            "text/plain": [
              "(768, 8)"
            ]
          },
          "execution_count": 4,
          "metadata": {},
          "output_type": "execute_result"
        }
      ],
      "source": [
        "X.shape"
      ]
    },
    {
      "cell_type": "code",
      "execution_count": 5,
      "metadata": {},
      "outputs": [
        {
          "data": {
            "text/plain": [
              "array([15.55, 15.55, 15.55, 15.55, 20.84])"
            ]
          },
          "execution_count": 5,
          "metadata": {},
          "output_type": "execute_result"
        }
      ],
      "source": [
        "y[:5]"
      ]
    },
    {
      "cell_type": "code",
      "execution_count": 12,
      "metadata": {},
      "outputs": [],
      "source": [
        "X_train, X_test, y_train, y_test = train_test_split(X, y, test_size=0.01, random_state=42)   # test size very low to just get a few examples for testing "
      ]
    },
    {
      "cell_type": "code",
      "execution_count": 13,
      "metadata": {
        "colab": {
          "base_uri": "https://localhost:8080/"
        },
        "id": "7pJEsCoQBG03",
        "outputId": "55a02578-0cbe-4e41-a669-a8f8de8ecaf7"
      },
      "outputs": [
        {
          "name": "stdout",
          "output_type": "stream",
          "text": [
            "Iteration 1, Loss: 568.2848447839291\n",
            "weights  [ 0.12578947 -0.13297543  0.09280267 -0.17427496  0.17968286 -0.00066967\n",
            "  0.05428881  0.01727534  0.44564947]\n",
            "Iteration 500, Loss: 9.809715997165112\n",
            "weights  [-0.62622319 -1.13184715  2.58316886 -2.35363445  5.3142247  -0.05130146\n",
            "  2.64485804  0.31048882 22.28155957]\n",
            "Iteration 1000, Loss: 9.061326855477095\n",
            "weights  [-1.73435269 -1.13564973  2.0084518  -2.07842356  6.73847625 -0.04730878\n",
            "  2.64386899  0.31284594 22.28247365]\n",
            "Iteration 1500, Loss: 8.790611741551603\n",
            "weights  [-2.45353016 -1.18452055  1.65934878 -1.95650344  7.55655983 -0.04489491\n",
            "  2.64300778  0.31448961 22.28247368]\n",
            "Iteration 2000, Loss: 8.688683289761077\n",
            "weights  [-2.93921233 -1.25807462  1.44447396 -1.92371301  8.01617554 -0.04342421\n",
            "  2.64247721  0.31546471 22.28247368]\n",
            "Iteration 2500, Loss: 8.646746331869076\n",
            "weights  [-3.28375417 -1.3443095   1.30958233 -1.94206236  8.26423739 -0.04251481\n",
            "  2.64214378  0.31604303 22.28247368]\n",
            "Iteration 3000, Loss: 8.626451018594347\n",
            "weights  [-3.5420675  -1.43619037  1.22247356 -1.98908775  8.38786405 -0.04194008\n",
            "  2.64192813  0.31638596 22.28247368]\n",
            "Iteration 3500, Loss: 8.61425153243244\n",
            "weights  [-3.74684283 -1.52962604  1.16402775 -2.0515342   8.43869792 -0.04156547\n",
            "  2.64178316  0.31658921 22.28247368]\n",
            "Iteration 4000, Loss: 8.605338024614623\n",
            "weights  [-3.91758126 -1.62226824  1.1228867  -2.12160738  8.44733432 -0.04131108\n",
            "  2.64168086  0.31670961 22.28247368]\n",
            "Iteration 4500, Loss: 8.597979630838294\n",
            "weights  [-4.06595356 -1.71279931  1.0922981  -2.19474979  8.43188265 -0.04112943\n",
            "  2.64160462  0.31678086 22.28247368]\n",
            "Iteration 5000, Loss: 8.591532663495856\n",
            "weights  [-4.19898006 -1.80050976  1.06824301 -2.26832152  8.40304594 -0.0409923\n",
            "  2.6415445   0.31682295 22.28247368]\n",
            "Model Weights: [-4.19898006 -1.80050976  1.06824301 -2.26832152  8.40304594 -0.0409923\n",
            "  2.6415445   0.31682295 22.28247368]\n"
          ]
        }
      ],
      "source": [
        "# Standardize the features\n",
        "scaler = StandardScaler()\n",
        "X_train_scaled = scaler.fit_transform(X_train)\n",
        "\n",
        "linear_reg = LinearRegression(learning_rate=0.01, max_iterations=5000, tolerance=1e-4, print_interval=500)\n",
        "linear_reg.fit(X_train_scaled, y_train)\n",
        "\n",
        "weights = linear_reg.get_weights()\n",
        "print(\"Model Weights:\", weights)\n"
      ]
    },
    {
      "cell_type": "code",
      "execution_count": 14,
      "metadata": {
        "colab": {
          "base_uri": "https://localhost:8080/"
        },
        "id": "IURsxosJBJBn",
        "outputId": "f4bd3d73-123a-4420-b7f9-910d6d5fd1e8"
      },
      "outputs": [
        {
          "name": "stdout",
          "output_type": "stream",
          "text": [
            "(8, 8)\n"
          ]
        }
      ],
      "source": [
        "X_test_scaled = scaler.transform(X_test)\n",
        "predictions = linear_reg.predict(X_test_scaled)\n",
        "print(X_test.shape)"
      ]
    },
    {
      "cell_type": "code",
      "execution_count": 18,
      "metadata": {},
      "outputs": [
        {
          "data": {
            "text/plain": [
              "array([-9.86881060e-01,  9.98644591e-01,  7.36913673e-04,  9.70221970e-01,\n",
              "       -9.97371875e-01, -1.35254030e+00,  1.19980603e-01, -1.16568111e+00])"
            ]
          },
          "execution_count": 18,
          "metadata": {},
          "output_type": "execute_result"
        }
      ],
      "source": [
        "X_test_scaled[1]"
      ]
    },
    {
      "cell_type": "code",
      "execution_count": 19,
      "metadata": {
        "colab": {
          "base_uri": "https://localhost:8080/"
        },
        "id": "uEL3IiZbWE7F",
        "outputId": "01ca9114-3cfc-4021-9d1a-14c287619208"
      },
      "outputs": [
        {
          "data": {
            "text/plain": [
              "14.050411684848058"
            ]
          },
          "execution_count": 19,
          "metadata": {},
          "output_type": "execute_result"
        }
      ],
      "source": [
        "predictions[1]"
      ]
    },
    {
      "cell_type": "code",
      "execution_count": 20,
      "metadata": {
        "id": "5fJ38PcpgZfC"
      },
      "outputs": [
        {
          "data": {
            "text/plain": [
              "13.17"
            ]
          },
          "execution_count": 20,
          "metadata": {},
          "output_type": "execute_result"
        }
      ],
      "source": [
        "y_test[1]"
      ]
    },
    {
      "cell_type": "code",
      "execution_count": 21,
      "metadata": {
        "colab": {
          "base_uri": "https://localhost:8080/"
        },
        "id": "s9l1o4sMgek0",
        "outputId": "ec331f1e-9e26-41f9-c131-082adb0e7288"
      },
      "outputs": [
        {
          "data": {
            "text/plain": [
              "array([-4.19898006, -1.80050976,  1.06824301, -2.26832152,  8.40304594,\n",
              "       -0.0409923 ,  2.6415445 ,  0.31682295, 22.28247368])"
            ]
          },
          "execution_count": 21,
          "metadata": {},
          "output_type": "execute_result"
        }
      ],
      "source": [
        "linear_reg.theta"
      ]
    },
    {
      "cell_type": "code",
      "execution_count": null,
      "metadata": {
        "id": "pL3tkVtIhCzN"
      },
      "outputs": [],
      "source": []
    },
    {
      "cell_type": "code",
      "execution_count": null,
      "metadata": {},
      "outputs": [],
      "source": []
    },
    {
      "cell_type": "code",
      "execution_count": null,
      "metadata": {},
      "outputs": [],
      "source": []
    },
    {
      "cell_type": "code",
      "execution_count": null,
      "metadata": {},
      "outputs": [],
      "source": []
    }
  ],
  "metadata": {
    "colab": {
      "provenance": []
    },
    "kernelspec": {
      "display_name": "Python 3",
      "name": "python3"
    },
    "language_info": {
      "codemirror_mode": {
        "name": "ipython",
        "version": 3
      },
      "file_extension": ".py",
      "mimetype": "text/x-python",
      "name": "python",
      "nbconvert_exporter": "python",
      "pygments_lexer": "ipython3",
      "version": "3.12.3"
    }
  },
  "nbformat": 4,
  "nbformat_minor": 0
}
